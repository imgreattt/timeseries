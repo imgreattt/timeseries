{
  "cells": [
    {
      "cell_type": "markdown",
      "metadata": {
        "id": "pQU7802QqtE4"
      },
      "source": [
        "## Importing Libraries \n"
      ]
    },
    {
      "cell_type": "code",
      "execution_count": 2,
      "metadata": {
        "id": "qrOtpRDjrSY2"
      },
      "outputs": [],
      "source": [
        "import torch\n",
        "import numpy as np\n",
        "import pandas as pd\n",
        "from sklearn.model_selection import train_test_split\n",
        "import time\n",
        "import matplotlib.pyplot as plt\n",
        "from dateutil.relativedelta import relativedelta\n",
        "from tqdm import tqdm\n",
        "import sys\n",
        "import time\n",
        "import warnings\n",
        "warnings.filterwarnings(\"ignore\")\n",
        "import logging\n",
        "logging.disable(logging.CRITICAL)\n",
        "from datetime import datetime\n",
        "from dateutil.relativedelta import relativedelta\n",
        "CUDA_LAUNCH_BLOCKING = \"1\""
      ]
    },
    {
      "cell_type": "markdown",
      "metadata": {
        "id": "hMUQEguW7dj4"
      },
      "source": [
        "## Preparing the Dataset\n"
      ]
    },
    {
      "cell_type": "markdown",
      "metadata": {
        "id": "iugVcpn98SSY"
      },
      "source": [
        " Converting the dataset to a machine feedable dataset"
      ]
    },
    {
      "cell_type": "code",
      "execution_count": 3,
      "metadata": {},
      "outputs": [
        {
          "data": {
            "text/html": [
              "<div>\n",
              "<style scoped>\n",
              "    .dataframe tbody tr th:only-of-type {\n",
              "        vertical-align: middle;\n",
              "    }\n",
              "\n",
              "    .dataframe tbody tr th {\n",
              "        vertical-align: top;\n",
              "    }\n",
              "\n",
              "    .dataframe thead th {\n",
              "        text-align: right;\n",
              "    }\n",
              "</style>\n",
              "<table border=\"1\" class=\"dataframe\">\n",
              "  <thead>\n",
              "    <tr style=\"text-align: right;\">\n",
              "      <th></th>\n",
              "      <th>Period</th>\n",
              "      <th>Sales</th>\n",
              "    </tr>\n",
              "  </thead>\n",
              "  <tbody>\n",
              "    <tr>\n",
              "      <th>0</th>\n",
              "      <td>2012-01-03</td>\n",
              "      <td>22.0</td>\n",
              "    </tr>\n",
              "    <tr>\n",
              "      <th>1</th>\n",
              "      <td>2012-01-04</td>\n",
              "      <td>15.0</td>\n",
              "    </tr>\n",
              "    <tr>\n",
              "      <th>2</th>\n",
              "      <td>2012-01-05</td>\n",
              "      <td>27.0</td>\n",
              "    </tr>\n",
              "    <tr>\n",
              "      <th>3</th>\n",
              "      <td>2012-01-06</td>\n",
              "      <td>25.0</td>\n",
              "    </tr>\n",
              "    <tr>\n",
              "      <th>4</th>\n",
              "      <td>2012-01-07</td>\n",
              "      <td>6.0</td>\n",
              "    </tr>\n",
              "  </tbody>\n",
              "</table>\n",
              "</div>"
            ],
            "text/plain": [
              "      Period  Sales\n",
              "0 2012-01-03   22.0\n",
              "1 2012-01-04   15.0\n",
              "2 2012-01-05   27.0\n",
              "3 2012-01-06   25.0\n",
              "4 2012-01-07    6.0"
            ]
          },
          "execution_count": 3,
          "metadata": {},
          "output_type": "execute_result"
        }
      ],
      "source": [
        "df = pd.read_excel('Expresso_Data.xlsx')\n",
        "df = df[['Period','Sales']]\n",
        "df.head()"
      ]
    },
    {
      "cell_type": "code",
      "execution_count": 4,
      "metadata": {},
      "outputs": [
        {
          "data": {
            "text/html": [
              "<div>\n",
              "<style scoped>\n",
              "    .dataframe tbody tr th:only-of-type {\n",
              "        vertical-align: middle;\n",
              "    }\n",
              "\n",
              "    .dataframe tbody tr th {\n",
              "        vertical-align: top;\n",
              "    }\n",
              "\n",
              "    .dataframe thead th {\n",
              "        text-align: right;\n",
              "    }\n",
              "</style>\n",
              "<table border=\"1\" class=\"dataframe\">\n",
              "  <thead>\n",
              "    <tr style=\"text-align: right;\">\n",
              "      <th></th>\n",
              "      <th>Expected</th>\n",
              "    </tr>\n",
              "    <tr>\n",
              "      <th>Period</th>\n",
              "      <th></th>\n",
              "    </tr>\n",
              "  </thead>\n",
              "  <tbody>\n",
              "    <tr>\n",
              "      <th>2012-01-03</th>\n",
              "      <td>22.0</td>\n",
              "    </tr>\n",
              "    <tr>\n",
              "      <th>2012-01-04</th>\n",
              "      <td>15.0</td>\n",
              "    </tr>\n",
              "    <tr>\n",
              "      <th>2012-01-05</th>\n",
              "      <td>27.0</td>\n",
              "    </tr>\n",
              "    <tr>\n",
              "      <th>2012-01-06</th>\n",
              "      <td>25.0</td>\n",
              "    </tr>\n",
              "    <tr>\n",
              "      <th>2012-01-07</th>\n",
              "      <td>6.0</td>\n",
              "    </tr>\n",
              "  </tbody>\n",
              "</table>\n",
              "</div>"
            ],
            "text/plain": [
              "            Expected\n",
              "Period              \n",
              "2012-01-03      22.0\n",
              "2012-01-04      15.0\n",
              "2012-01-05      27.0\n",
              "2012-01-06      25.0\n",
              "2012-01-07       6.0"
            ]
          },
          "execution_count": 4,
          "metadata": {},
          "output_type": "execute_result"
        }
      ],
      "source": [
        "df.set_index('Period', inplace=True)\n",
        "df.columns = [ 'Expected' ]\n",
        "df.head()"
      ]
    },
    {
      "cell_type": "code",
      "execution_count": 14,
      "metadata": {},
      "outputs": [
        {
          "data": {
            "text/html": [
              "<div>\n",
              "<style scoped>\n",
              "    .dataframe tbody tr th:only-of-type {\n",
              "        vertical-align: middle;\n",
              "    }\n",
              "\n",
              "    .dataframe tbody tr th {\n",
              "        vertical-align: top;\n",
              "    }\n",
              "\n",
              "    .dataframe thead th {\n",
              "        text-align: right;\n",
              "    }\n",
              "</style>\n",
              "<table border=\"1\" class=\"dataframe\">\n",
              "  <thead>\n",
              "    <tr style=\"text-align: right;\">\n",
              "      <th></th>\n",
              "      <th>Expected</th>\n",
              "    </tr>\n",
              "    <tr>\n",
              "      <th>Period</th>\n",
              "      <th></th>\n",
              "    </tr>\n",
              "  </thead>\n",
              "  <tbody>\n",
              "    <tr>\n",
              "      <th>2012-01-03</th>\n",
              "      <td>22.0</td>\n",
              "    </tr>\n",
              "    <tr>\n",
              "      <th>2012-01-04</th>\n",
              "      <td>15.0</td>\n",
              "    </tr>\n",
              "    <tr>\n",
              "      <th>2012-01-05</th>\n",
              "      <td>27.0</td>\n",
              "    </tr>\n",
              "    <tr>\n",
              "      <th>2012-01-06</th>\n",
              "      <td>25.0</td>\n",
              "    </tr>\n",
              "    <tr>\n",
              "      <th>2012-01-07</th>\n",
              "      <td>6.0</td>\n",
              "    </tr>\n",
              "    <tr>\n",
              "      <th>2012-01-09</th>\n",
              "      <td>28.0</td>\n",
              "    </tr>\n",
              "    <tr>\n",
              "      <th>2012-01-10</th>\n",
              "      <td>40.0</td>\n",
              "    </tr>\n",
              "    <tr>\n",
              "      <th>2012-01-11</th>\n",
              "      <td>25.0</td>\n",
              "    </tr>\n",
              "    <tr>\n",
              "      <th>2012-01-12</th>\n",
              "      <td>26.0</td>\n",
              "    </tr>\n",
              "    <tr>\n",
              "      <th>2012-01-13</th>\n",
              "      <td>27.0</td>\n",
              "    </tr>\n",
              "    <tr>\n",
              "      <th>2012-01-16</th>\n",
              "      <td>18.0</td>\n",
              "    </tr>\n",
              "    <tr>\n",
              "      <th>2012-01-17</th>\n",
              "      <td>20.0</td>\n",
              "    </tr>\n",
              "    <tr>\n",
              "      <th>2012-01-18</th>\n",
              "      <td>22.0</td>\n",
              "    </tr>\n",
              "    <tr>\n",
              "      <th>2012-01-19</th>\n",
              "      <td>13.0</td>\n",
              "    </tr>\n",
              "    <tr>\n",
              "      <th>2012-01-20</th>\n",
              "      <td>37.0</td>\n",
              "    </tr>\n",
              "    <tr>\n",
              "      <th>2012-01-21</th>\n",
              "      <td>27.0</td>\n",
              "    </tr>\n",
              "    <tr>\n",
              "      <th>2012-01-23</th>\n",
              "      <td>30.0</td>\n",
              "    </tr>\n",
              "    <tr>\n",
              "      <th>2012-01-24</th>\n",
              "      <td>30.0</td>\n",
              "    </tr>\n",
              "    <tr>\n",
              "      <th>2012-01-25</th>\n",
              "      <td>22.0</td>\n",
              "    </tr>\n",
              "    <tr>\n",
              "      <th>2012-01-26</th>\n",
              "      <td>26.0</td>\n",
              "    </tr>\n",
              "    <tr>\n",
              "      <th>2012-01-27</th>\n",
              "      <td>24.0</td>\n",
              "    </tr>\n",
              "    <tr>\n",
              "      <th>2012-01-30</th>\n",
              "      <td>28.0</td>\n",
              "    </tr>\n",
              "    <tr>\n",
              "      <th>2012-01-31</th>\n",
              "      <td>21.0</td>\n",
              "    </tr>\n",
              "    <tr>\n",
              "      <th>2012-02-01</th>\n",
              "      <td>26.0</td>\n",
              "    </tr>\n",
              "    <tr>\n",
              "      <th>2012-02-02</th>\n",
              "      <td>19.0</td>\n",
              "    </tr>\n",
              "    <tr>\n",
              "      <th>2012-02-03</th>\n",
              "      <td>16.0</td>\n",
              "    </tr>\n",
              "    <tr>\n",
              "      <th>2012-02-04</th>\n",
              "      <td>2.0</td>\n",
              "    </tr>\n",
              "    <tr>\n",
              "      <th>2012-02-06</th>\n",
              "      <td>27.0</td>\n",
              "    </tr>\n",
              "    <tr>\n",
              "      <th>2012-02-07</th>\n",
              "      <td>12.0</td>\n",
              "    </tr>\n",
              "    <tr>\n",
              "      <th>2012-02-08</th>\n",
              "      <td>19.0</td>\n",
              "    </tr>\n",
              "  </tbody>\n",
              "</table>\n",
              "</div>"
            ],
            "text/plain": [
              "            Expected\n",
              "Period              \n",
              "2012-01-03      22.0\n",
              "2012-01-04      15.0\n",
              "2012-01-05      27.0\n",
              "2012-01-06      25.0\n",
              "2012-01-07       6.0\n",
              "2012-01-09      28.0\n",
              "2012-01-10      40.0\n",
              "2012-01-11      25.0\n",
              "2012-01-12      26.0\n",
              "2012-01-13      27.0\n",
              "2012-01-16      18.0\n",
              "2012-01-17      20.0\n",
              "2012-01-18      22.0\n",
              "2012-01-19      13.0\n",
              "2012-01-20      37.0\n",
              "2012-01-21      27.0\n",
              "2012-01-23      30.0\n",
              "2012-01-24      30.0\n",
              "2012-01-25      22.0\n",
              "2012-01-26      26.0\n",
              "2012-01-27      24.0\n",
              "2012-01-30      28.0\n",
              "2012-01-31      21.0\n",
              "2012-02-01      26.0\n",
              "2012-02-02      19.0\n",
              "2012-02-03      16.0\n",
              "2012-02-04       2.0\n",
              "2012-02-06      27.0\n",
              "2012-02-07      12.0\n",
              "2012-02-08      19.0"
            ]
          },
          "execution_count": 14,
          "metadata": {},
          "output_type": "execute_result"
        }
      ],
      "source": [
        "df = df.loc[~(df==0).all(axis=1)]\n",
        "df.head(30)"
      ]
    },
    {
      "cell_type": "code",
      "execution_count": 15,
      "metadata": {},
      "outputs": [
        {
          "data": {
            "text/plain": [
              "(505, 1)"
            ]
          },
          "execution_count": 15,
          "metadata": {},
          "output_type": "execute_result"
        }
      ],
      "source": [
        "df.shape"
      ]
    },
    {
      "cell_type": "code",
      "execution_count": 5,
      "metadata": {
        "id": "TnwZD-wPr_HY"
      },
      "outputs": [],
      "source": [
        "# # df = pd.read_csv('https://raw.githubusercontent.com/dwipddalal/Time-Series-analysis-using-Transformers/main/train.csv')\n",
        "# # df = df.drop(columns=['Faculty', 'Course'])\n",
        "# X=df['Timestep']\n",
        "# X_new=[None]*697\n",
        "# for i in range(len(X)):\n",
        "#   X_new[i]=int(X[i][2:6])\n",
        "# given_date = '1/1/1800' \n",
        "# date_format = '%d/%m/%Y'\n",
        "\n",
        "# dtObj = datetime.strptime(given_date, date_format)\n",
        "# for i in range(len(X)):\n",
        "#   r=dtObj + relativedelta(days=i)\n",
        "#   X_new[i] = r.date()\n",
        "# df['New'] = X_new\n",
        "# df = df.drop(columns = ['Timestep', 'Id'])\n",
        "# df = df.set_index('New')"
      ]
    },
    {
      "cell_type": "code",
      "execution_count": 16,
      "metadata": {
        "id": "50305WMA80Xf"
      },
      "outputs": [],
      "source": [
        "df['Expected'] = df['Expected'].astype('float32')"
      ]
    },
    {
      "cell_type": "code",
      "execution_count": 17,
      "metadata": {
        "id": "43wz3Y-x9dLw"
      },
      "outputs": [],
      "source": [
        "data = df.values.astype('float32')"
      ]
    },
    {
      "cell_type": "code",
      "execution_count": 18,
      "metadata": {},
      "outputs": [
        {
          "data": {
            "text/plain": [
              "(505, 1)"
            ]
          },
          "execution_count": 18,
          "metadata": {},
          "output_type": "execute_result"
        }
      ],
      "source": [
        "data = data[:697,:]\n",
        "data.shape"
      ]
    },
    {
      "cell_type": "markdown",
      "metadata": {
        "id": "tA9ZKmIn94-4"
      },
      "source": [
        "#### Split the dataset into sequences, these sequences will be the input for the model and the output will be the number after the sequence."
      ]
    },
    {
      "cell_type": "code",
      "execution_count": 19,
      "metadata": {
        "id": "p0bQB8uOv7xT"
      },
      "outputs": [],
      "source": [
        "def split_dataset_into_seq(dataset, start_index=0, end_index=None, history_size=13, step=1):\n",
        "    data = []\n",
        "    start_index = start_index + history_size\n",
        "    if end_index is None:\n",
        "        end_index = len(dataset)\n",
        "    for i in range(start_index, end_index):\n",
        "        indices = range(i - history_size, i, step)\n",
        "        data.append(dataset[indices])\n",
        "    return np.array(data)"
      ]
    },
    {
      "cell_type": "markdown",
      "metadata": {
        "id": "j6EP6-npBWcM"
      },
      "source": [
        "### Train-Val-Test Split "
      ]
    },
    {
      "cell_type": "code",
      "execution_count": 20,
      "metadata": {
        "id": "ajb5bl5bvtkh"
      },
      "outputs": [],
      "source": [
        "def split_dataset(data, TRAIN_SPLIT=0.8, VAL_SPLIT=0.6):\n",
        "    # normalization\n",
        "    data_mean = data.mean(axis=0)\n",
        "    data_std = data.std(axis=0)\n",
        "    data = (data - data_mean) / data_std\n",
        "    stats = (data_mean, data_std)\n",
        "\n",
        "    data_in_seq = split_dataset_into_seq(data, start_index=0, end_index=None, history_size=13, step=1)\n",
        "\n",
        "    # split between validation dataset and test set:\n",
        "    train_data, val_data = train_test_split(data_in_seq, train_size=TRAIN_SPLIT, shuffle=True, random_state=123)\n",
        "    val_data, test_data = train_test_split(val_data, train_size=VAL_SPLIT, shuffle=True, random_state=123)\n",
        "\n",
        "    return train_data, val_data, test_data"
      ]
    },
    {
      "cell_type": "code",
      "execution_count": 21,
      "metadata": {
        "id": "34lFfEqjzdlB"
      },
      "outputs": [],
      "source": [
        "def split_fn(spiltttt):\n",
        "    inputs = torch.tensor(spiltttt[:, :-1, :], device=device)\n",
        "    targets = torch.tensor(spiltttt[:, 1:, :], device=device)\n",
        "    return inputs, targets"
      ]
    },
    {
      "cell_type": "code",
      "execution_count": 22,
      "metadata": {
        "id": "n1ClBYcty4jL"
      },
      "outputs": [],
      "source": [
        "def data_to_dataset(train_data, val_data, test_data, batch_size=32, target_features=list(range(1))):\n",
        "    x_train, y_train = split_fn(train_data)\n",
        "    x_val, y_val = split_fn(val_data)\n",
        "    x_test, y_test = split_fn(test_data)\n",
        "\n",
        "    train_dataset = torch.utils.data.TensorDataset(x_train, y_train)\n",
        "    val_dataset = torch.utils.data.TensorDataset(x_val, y_val)\n",
        "    test_dataset = torch.utils.data.TensorDataset(x_test, y_test)\n",
        "\n",
        "    train_loader = torch.utils.data.DataLoader(train_dataset, batch_size=batch_size)\n",
        "    val_loader = torch.utils.data.DataLoader(val_dataset, batch_size=batch_size)\n",
        "    test_loader = torch.utils.data.DataLoader(test_dataset, batch_size=batch_size)\n",
        "    return train_loader, val_loader, test_loader"
      ]
    },
    {
      "cell_type": "markdown",
      "metadata": {
        "id": "sBACbInfB0EQ"
      },
      "source": [
        "### Setting up gpu as a primary device "
      ]
    },
    {
      "cell_type": "code",
      "execution_count": 23,
      "metadata": {
        "id": "HaSnKB3eqtFO"
      },
      "outputs": [],
      "source": [
        "device = torch.device(\"cuda:0\" if torch.cuda.is_available() else \"cpu\")"
      ]
    },
    {
      "cell_type": "code",
      "execution_count": 24,
      "metadata": {
        "colab": {
          "base_uri": "https://localhost:8080/"
        },
        "id": "VDzKvost8VUu",
        "outputId": "5e5f57fe-12fe-4292-acf3-818ce56692cc"
      },
      "outputs": [
        {
          "data": {
            "text/plain": [
              "(393, 13, 1)"
            ]
          },
          "execution_count": 24,
          "metadata": {},
          "output_type": "execute_result"
        }
      ],
      "source": [
        "train_data, val_data, test_data = split_dataset(data)\n",
        "train_data.shape"
      ]
    },
    {
      "cell_type": "code",
      "execution_count": 25,
      "metadata": {
        "id": "9bbcSB_t3dDE"
      },
      "outputs": [
        {
          "ename": "RuntimeError",
          "evalue": "CUDA error: out of memory\nCUDA kernel errors might be asynchronously reported at some other API call,so the stacktrace below might be incorrect.\nFor debugging consider passing CUDA_LAUNCH_BLOCKING=1.",
          "output_type": "error",
          "traceback": [
            "\u001b[0;31m---------------------------------------------------------------------------\u001b[0m",
            "\u001b[0;31mRuntimeError\u001b[0m                              Traceback (most recent call last)",
            "\u001b[1;32m/home/dwip.dalal/Time_series_Analysis/Copy_of_Hackrush_2.ipynb Cell 22'\u001b[0m in \u001b[0;36m<cell line: 1>\u001b[0;34m()\u001b[0m\n\u001b[0;32m----> <a href='vscode-notebook-cell://ssh-remote%2B10.0.62.205/home/dwip.dalal/Time_series_Analysis/Copy_of_Hackrush_2.ipynb#ch0000019vscode-remote?line=0'>1</a>\u001b[0m train_dataset, val_dataset, test_dataset \u001b[39m=\u001b[39m data_to_dataset(train_data, val_data, test_data)\n",
            "\u001b[1;32m/home/dwip.dalal/Time_series_Analysis/Copy_of_Hackrush_2.ipynb Cell 18'\u001b[0m in \u001b[0;36mdata_to_dataset\u001b[0;34m(train_data, val_data, test_data, batch_size, target_features)\u001b[0m\n\u001b[1;32m      <a href='vscode-notebook-cell://ssh-remote%2B10.0.62.205/home/dwip.dalal/Time_series_Analysis/Copy_of_Hackrush_2.ipynb#ch0000015vscode-remote?line=0'>1</a>\u001b[0m \u001b[39mdef\u001b[39;00m \u001b[39mdata_to_dataset\u001b[39m(train_data, val_data, test_data, batch_size\u001b[39m=\u001b[39m\u001b[39m32\u001b[39m, target_features\u001b[39m=\u001b[39m\u001b[39mlist\u001b[39m(\u001b[39mrange\u001b[39m(\u001b[39m1\u001b[39m))):\n\u001b[0;32m----> <a href='vscode-notebook-cell://ssh-remote%2B10.0.62.205/home/dwip.dalal/Time_series_Analysis/Copy_of_Hackrush_2.ipynb#ch0000015vscode-remote?line=1'>2</a>\u001b[0m     x_train, y_train \u001b[39m=\u001b[39m split_fn(train_data)\n\u001b[1;32m      <a href='vscode-notebook-cell://ssh-remote%2B10.0.62.205/home/dwip.dalal/Time_series_Analysis/Copy_of_Hackrush_2.ipynb#ch0000015vscode-remote?line=2'>3</a>\u001b[0m     x_val, y_val \u001b[39m=\u001b[39m split_fn(val_data)\n\u001b[1;32m      <a href='vscode-notebook-cell://ssh-remote%2B10.0.62.205/home/dwip.dalal/Time_series_Analysis/Copy_of_Hackrush_2.ipynb#ch0000015vscode-remote?line=3'>4</a>\u001b[0m     x_test, y_test \u001b[39m=\u001b[39m split_fn(test_data)\n",
            "\u001b[1;32m/home/dwip.dalal/Time_series_Analysis/Copy_of_Hackrush_2.ipynb Cell 17'\u001b[0m in \u001b[0;36msplit_fn\u001b[0;34m(spiltttt)\u001b[0m\n\u001b[1;32m      <a href='vscode-notebook-cell://ssh-remote%2B10.0.62.205/home/dwip.dalal/Time_series_Analysis/Copy_of_Hackrush_2.ipynb#ch0000014vscode-remote?line=0'>1</a>\u001b[0m \u001b[39mdef\u001b[39;00m \u001b[39msplit_fn\u001b[39m(spiltttt):\n\u001b[0;32m----> <a href='vscode-notebook-cell://ssh-remote%2B10.0.62.205/home/dwip.dalal/Time_series_Analysis/Copy_of_Hackrush_2.ipynb#ch0000014vscode-remote?line=1'>2</a>\u001b[0m     inputs \u001b[39m=\u001b[39m torch\u001b[39m.\u001b[39;49mtensor(spiltttt[:, :\u001b[39m-\u001b[39;49m\u001b[39m1\u001b[39;49m, :], device\u001b[39m=\u001b[39;49mdevice)\n\u001b[1;32m      <a href='vscode-notebook-cell://ssh-remote%2B10.0.62.205/home/dwip.dalal/Time_series_Analysis/Copy_of_Hackrush_2.ipynb#ch0000014vscode-remote?line=2'>3</a>\u001b[0m     targets \u001b[39m=\u001b[39m torch\u001b[39m.\u001b[39mtensor(spiltttt[:, \u001b[39m1\u001b[39m:, :], device\u001b[39m=\u001b[39mdevice)\n\u001b[1;32m      <a href='vscode-notebook-cell://ssh-remote%2B10.0.62.205/home/dwip.dalal/Time_series_Analysis/Copy_of_Hackrush_2.ipynb#ch0000014vscode-remote?line=3'>4</a>\u001b[0m     \u001b[39mreturn\u001b[39;00m inputs, targets\n",
            "\u001b[0;31mRuntimeError\u001b[0m: CUDA error: out of memory\nCUDA kernel errors might be asynchronously reported at some other API call,so the stacktrace below might be incorrect.\nFor debugging consider passing CUDA_LAUNCH_BLOCKING=1."
          ]
        }
      ],
      "source": [
        "train_dataset, val_dataset, test_dataset = data_to_dataset(train_data, val_data, test_data)"
      ]
    },
    {
      "cell_type": "markdown",
      "metadata": {
        "id": "tGacA_fS85sz"
      },
      "source": [
        "### Implementation of the Transformer model"
      ]
    },
    {
      "cell_type": "code",
      "execution_count": null,
      "metadata": {
        "id": "8KH-wFTB4e7I"
      },
      "outputs": [],
      "source": [
        "import torch.nn as nn\n",
        "import math\n",
        "\n",
        "class MultiHeadAttention(nn.Module):\n",
        "\n",
        "    def __init__(self, D, H):\n",
        "        super(MultiHeadAttention, self).__init__()\n",
        "        self.H = H # number of heads\n",
        "        self.D = D # dimension\n",
        "        self.wq = nn.Linear(D, D*H)\n",
        "        self.wk = nn.Linear(D, D*H)\n",
        "        self.wv = nn.Linear(D, D*H)\n",
        "        self.dense = nn.Linear(D*H, D)\n",
        "\n",
        "    def concat_heads(self, x):\n",
        "        \n",
        "        B, H, S, D = x.shape\n",
        "        x = x.permute((0, 2, 1, 3)).contiguous()  # (B, S, H, D)\n",
        "        x = x.reshape((B, S, H*D))   # (B, S, D*H)\n",
        "        return x\n",
        "\n",
        "    def split_heads(self, x):\n",
        "        \n",
        "        B, S, D_H = x.shape\n",
        "        x = x.reshape(B, S, self.H, self.D)    # (B, S, H, D)\n",
        "        x = x.permute((0, 2, 1, 3))  # (B, H, S, D)\n",
        "        return x\n",
        "\n",
        "    def forward(self, x, mask):\n",
        "\n",
        "        q = self.wq(x)  # (B, S, D*H)\n",
        "        k = self.wk(x)  # (B, S, D*H)\n",
        "        v = self.wv(x)  # (B, S, D*H)\n",
        "\n",
        "        q = self.split_heads(q)  # (B, H, S, D)\n",
        "        k = self.split_heads(k)  # (B, H, S, D)\n",
        "        v = self.split_heads(v)  # (B, H, S, D)\n",
        "\n",
        "        attention_scores = torch.matmul(q, k.transpose(-1, -2)) #(B,H,S,S)\n",
        "        attention_scores = attention_scores / math.sqrt(self.D)\n",
        "\n",
        "        if mask is not None:\n",
        "            attention_scores += (mask * -1e9)\n",
        "        \n",
        "        attention_weights = nn.Softmax(dim=-1)(attention_scores)\n",
        "        scaled_attention = torch.matmul(attention_weights, v)  # (B, H, S, D)\n",
        "        concat_attention = self.concat_heads(scaled_attention) # (B, S, D*H)\n",
        "        output = self.dense(concat_attention)  # (B, S, D)\n",
        "\n",
        "        return output, attention_weights"
      ]
    },
    {
      "cell_type": "code",
      "execution_count": 26,
      "metadata": {
        "colab": {
          "base_uri": "https://localhost:8080/"
        },
        "id": "KEI03i_7qtFT",
        "outputId": "8d782d68-eaf4-4e99-b545-754d56c756fc"
      },
      "outputs": [
        {
          "ename": "NameError",
          "evalue": "name 'MultiHeadAttention' is not defined",
          "output_type": "error",
          "traceback": [
            "\u001b[0;31m---------------------------------------------------------------------------\u001b[0m",
            "\u001b[0;31mNameError\u001b[0m                                 Traceback (most recent call last)",
            "\u001b[1;32m/home/dwip.dalal/Time_series_Analysis/Copy_of_Hackrush_2.ipynb Cell 25'\u001b[0m in \u001b[0;36m<cell line: 2>\u001b[0;34m()\u001b[0m\n\u001b[1;32m      <a href='vscode-notebook-cell://ssh-remote%2B10.0.62.205/home/dwip.dalal/Time_series_Analysis/Copy_of_Hackrush_2.ipynb#ch0000022vscode-remote?line=0'>1</a>\u001b[0m B, S, H, D \u001b[39m=\u001b[39m \u001b[39m9\u001b[39m, \u001b[39m11\u001b[39m, \u001b[39m5\u001b[39m, \u001b[39m8\u001b[39m\n\u001b[0;32m----> <a href='vscode-notebook-cell://ssh-remote%2B10.0.62.205/home/dwip.dalal/Time_series_Analysis/Copy_of_Hackrush_2.ipynb#ch0000022vscode-remote?line=1'>2</a>\u001b[0m mha \u001b[39m=\u001b[39m MultiHeadAttention(D, H)\n\u001b[1;32m      <a href='vscode-notebook-cell://ssh-remote%2B10.0.62.205/home/dwip.dalal/Time_series_Analysis/Copy_of_Hackrush_2.ipynb#ch0000022vscode-remote?line=2'>3</a>\u001b[0m out, att \u001b[39m=\u001b[39m mha\u001b[39m.\u001b[39mforward(torch\u001b[39m.\u001b[39mzeros(B, S, D), mask\u001b[39m=\u001b[39m\u001b[39mNone\u001b[39;00m)\n\u001b[1;32m      <a href='vscode-notebook-cell://ssh-remote%2B10.0.62.205/home/dwip.dalal/Time_series_Analysis/Copy_of_Hackrush_2.ipynb#ch0000022vscode-remote?line=3'>4</a>\u001b[0m out\u001b[39m.\u001b[39mshape, att\u001b[39m.\u001b[39mshape\n",
            "\u001b[0;31mNameError\u001b[0m: name 'MultiHeadAttention' is not defined"
          ]
        }
      ],
      "source": [
        "B, S, H, D = 9, 11, 5, 8\n",
        "mha = MultiHeadAttention(D, H)\n",
        "out, att = mha.forward(torch.zeros(B, S, D), mask=None)\n",
        "out.shape, att.shape"
      ]
    },
    {
      "cell_type": "markdown",
      "metadata": {
        "id": "E49qo1JslB9g"
      },
      "source": [
        "### Positional encodings\n",
        "We use combination of sines and cosine equations for creating position encoding of the input data. Since for a time series analysis it is important to maintain the information positon of the input data values so here we use positional encodings"
      ]
    },
    {
      "cell_type": "code",
      "execution_count": 27,
      "metadata": {
        "id": "bsiqoBF15qxb"
      },
      "outputs": [],
      "source": [
        "def get_angles(pos, i, D):\n",
        "    angle_rates = 1 / np.power(10000, (2 * (i // 2)) / np.float32(D))\n",
        "    return pos * angle_rates\n",
        "\n",
        "def positional_encoding(D, position=20, dim=3, device=device):\n",
        "    angle_rads = get_angles(np.arange(position)[:, np.newaxis],\n",
        "                            np.arange(D)[np.newaxis, :],\n",
        "                            D)\n",
        "    # apply sin to even indices in the array; 2i\n",
        "    angle_rads[:, 0::2] = np.sin(angle_rads[:, 0::2])\n",
        "    # apply cos to odd indices in the array; 2i+1\n",
        "    angle_rads[:, 1::2] = np.cos(angle_rads[:, 1::2])\n",
        "    if dim == 3:\n",
        "        pos_encoding = angle_rads[np.newaxis, ...]\n",
        "    elif dim == 4:\n",
        "        pos_encoding = angle_rads[np.newaxis,np.newaxis,  ...]\n",
        "    return torch.tensor(pos_encoding, device=device)"
      ]
    },
    {
      "cell_type": "code",
      "execution_count": 28,
      "metadata": {
        "id": "ZW26NwrB6LtR"
      },
      "outputs": [],
      "source": [
        "# function that implement the look_ahead mask for masking future time steps. \n",
        "def create_look_ahead_mask(size, device=device):\n",
        "    mask = torch.ones((size, size), device=device)\n",
        "    mask = torch.triu(mask, diagonal=1)\n",
        "    return mask  # (size, size)"
      ]
    },
    {
      "cell_type": "code",
      "execution_count": 29,
      "metadata": {
        "colab": {
          "base_uri": "https://localhost:8080/"
        },
        "id": "IskS98HrqtFV",
        "outputId": "f1261279-d1c3-437f-dbc2-8c227c0e5d96"
      },
      "outputs": [
        {
          "ename": "RuntimeError",
          "evalue": "CUDA error: out of memory\nCUDA kernel errors might be asynchronously reported at some other API call,so the stacktrace below might be incorrect.\nFor debugging consider passing CUDA_LAUNCH_BLOCKING=1.",
          "output_type": "error",
          "traceback": [
            "\u001b[0;31m---------------------------------------------------------------------------\u001b[0m",
            "\u001b[0;31mRuntimeError\u001b[0m                              Traceback (most recent call last)",
            "\u001b[1;32m/home/dwip.dalal/Time_series_Analysis/Copy_of_Hackrush_2.ipynb Cell 29'\u001b[0m in \u001b[0;36m<cell line: 1>\u001b[0;34m()\u001b[0m\n\u001b[0;32m----> <a href='vscode-notebook-cell://ssh-remote%2B10.0.62.205/home/dwip.dalal/Time_series_Analysis/Copy_of_Hackrush_2.ipynb#ch0000026vscode-remote?line=0'>1</a>\u001b[0m create_look_ahead_mask(\u001b[39m6\u001b[39;49m)\n",
            "\u001b[1;32m/home/dwip.dalal/Time_series_Analysis/Copy_of_Hackrush_2.ipynb Cell 28'\u001b[0m in \u001b[0;36mcreate_look_ahead_mask\u001b[0;34m(size, device)\u001b[0m\n\u001b[1;32m      <a href='vscode-notebook-cell://ssh-remote%2B10.0.62.205/home/dwip.dalal/Time_series_Analysis/Copy_of_Hackrush_2.ipynb#ch0000025vscode-remote?line=1'>2</a>\u001b[0m \u001b[39mdef\u001b[39;00m \u001b[39mcreate_look_ahead_mask\u001b[39m(size, device\u001b[39m=\u001b[39mdevice):\n\u001b[0;32m----> <a href='vscode-notebook-cell://ssh-remote%2B10.0.62.205/home/dwip.dalal/Time_series_Analysis/Copy_of_Hackrush_2.ipynb#ch0000025vscode-remote?line=2'>3</a>\u001b[0m     mask \u001b[39m=\u001b[39m torch\u001b[39m.\u001b[39;49mones((size, size), device\u001b[39m=\u001b[39;49mdevice)\n\u001b[1;32m      <a href='vscode-notebook-cell://ssh-remote%2B10.0.62.205/home/dwip.dalal/Time_series_Analysis/Copy_of_Hackrush_2.ipynb#ch0000025vscode-remote?line=3'>4</a>\u001b[0m     mask \u001b[39m=\u001b[39m torch\u001b[39m.\u001b[39mtriu(mask, diagonal\u001b[39m=\u001b[39m\u001b[39m1\u001b[39m)\n\u001b[1;32m      <a href='vscode-notebook-cell://ssh-remote%2B10.0.62.205/home/dwip.dalal/Time_series_Analysis/Copy_of_Hackrush_2.ipynb#ch0000025vscode-remote?line=4'>5</a>\u001b[0m     \u001b[39mreturn\u001b[39;00m mask\n",
            "\u001b[0;31mRuntimeError\u001b[0m: CUDA error: out of memory\nCUDA kernel errors might be asynchronously reported at some other API call,so the stacktrace below might be incorrect.\nFor debugging consider passing CUDA_LAUNCH_BLOCKING=1."
          ]
        }
      ],
      "source": [
        "create_look_ahead_mask(6)"
      ]
    },
    {
      "cell_type": "markdown",
      "metadata": {
        "id": "-YdLJmX5tErH"
      },
      "source": [
        "## Creating the Transformer Architecture"
      ]
    },
    {
      "cell_type": "code",
      "execution_count": 30,
      "metadata": {
        "id": "KUalYf-dtYwb"
      },
      "outputs": [
        {
          "ename": "NameError",
          "evalue": "name 'nn' is not defined",
          "output_type": "error",
          "traceback": [
            "\u001b[0;31m---------------------------------------------------------------------------\u001b[0m",
            "\u001b[0;31mNameError\u001b[0m                                 Traceback (most recent call last)",
            "\u001b[1;32m/home/dwip.dalal/Time_series_Analysis/Copy_of_Hackrush_2.ipynb Cell 31'\u001b[0m in \u001b[0;36m<cell line: 1>\u001b[0;34m()\u001b[0m\n\u001b[0;32m----> <a href='vscode-notebook-cell://ssh-remote%2B10.0.62.205/home/dwip.dalal/Time_series_Analysis/Copy_of_Hackrush_2.ipynb#ch0000028vscode-remote?line=0'>1</a>\u001b[0m \u001b[39mclass\u001b[39;00m \u001b[39mTransformerLayer\u001b[39;00m(nn\u001b[39m.\u001b[39mModule):\n\u001b[1;32m      <a href='vscode-notebook-cell://ssh-remote%2B10.0.62.205/home/dwip.dalal/Time_series_Analysis/Copy_of_Hackrush_2.ipynb#ch0000028vscode-remote?line=1'>2</a>\u001b[0m     \u001b[39mdef\u001b[39;00m \u001b[39m__init__\u001b[39m(\u001b[39mself\u001b[39m, D, H, hidden_mlp_dim, dropout_rate):\n\u001b[1;32m      <a href='vscode-notebook-cell://ssh-remote%2B10.0.62.205/home/dwip.dalal/Time_series_Analysis/Copy_of_Hackrush_2.ipynb#ch0000028vscode-remote?line=2'>3</a>\u001b[0m         \u001b[39msuper\u001b[39m(TransformerLayer, \u001b[39mself\u001b[39m)\u001b[39m.\u001b[39m\u001b[39m__init__\u001b[39m()\n",
            "\u001b[0;31mNameError\u001b[0m: name 'nn' is not defined"
          ]
        }
      ],
      "source": [
        "class TransformerLayer(nn.Module):\n",
        "    def __init__(self, D, H, hidden_mlp_dim, dropout_rate):\n",
        "        super(TransformerLayer, self).__init__()\n",
        "        self.dropout_rate = dropout_rate\n",
        "        self.mlp_hidden = nn.Linear(D, hidden_mlp_dim)\n",
        "        self.mlp_out = nn.Linear(hidden_mlp_dim, D)\n",
        "        self.layernorm1 = nn.LayerNorm(D, eps=1e-9)\n",
        "        self.layernorm2 = nn.LayerNorm(D, eps=1e-9)\n",
        "        self.dropout1 = nn.Dropout(dropout_rate)\n",
        "        self.dropout2 = nn.Dropout(dropout_rate)\n",
        "\n",
        "        self.mha = MultiHeadAttention(D, H)\n",
        "\n",
        "\n",
        "    def forward(self, x, look_ahead_mask):\n",
        "        \n",
        "        attn, attn_weights = self.mha(x, look_ahead_mask)  # (B, S, D)\n",
        "        attn = self.dropout1(attn) # (B,S,D)\n",
        "        attn = self.layernorm1(attn + x) # (B,S,D)\n",
        "\n",
        "        mlp_act = torch.relu(self.mlp_hidden(attn))\n",
        "        mlp_act = self.mlp_out(mlp_act)\n",
        "        mlp_act = self.dropout2(mlp_act)\n",
        "        \n",
        "        output = self.layernorm2(mlp_act + attn)  # (B, S, D)\n",
        "\n",
        "        return output, attn_weights"
      ]
    },
    {
      "cell_type": "code",
      "execution_count": 31,
      "metadata": {
        "colab": {
          "base_uri": "https://localhost:8080/"
        },
        "id": "Q1RhWuk5qtFX",
        "outputId": "47593eb5-7e9a-448d-c5db-a57863d4cea5"
      },
      "outputs": [
        {
          "ename": "NameError",
          "evalue": "name 'TransformerLayer' is not defined",
          "output_type": "error",
          "traceback": [
            "\u001b[0;31m---------------------------------------------------------------------------\u001b[0m",
            "\u001b[0;31mNameError\u001b[0m                                 Traceback (most recent call last)",
            "\u001b[1;32m/home/dwip.dalal/Time_series_Analysis/Copy_of_Hackrush_2.ipynb Cell 32'\u001b[0m in \u001b[0;36m<cell line: 1>\u001b[0;34m()\u001b[0m\n\u001b[0;32m----> <a href='vscode-notebook-cell://ssh-remote%2B10.0.62.205/home/dwip.dalal/Time_series_Analysis/Copy_of_Hackrush_2.ipynb#ch0000029vscode-remote?line=0'>1</a>\u001b[0m dl \u001b[39m=\u001b[39m TransformerLayer(\u001b[39m16\u001b[39m, \u001b[39m3\u001b[39m, \u001b[39m32\u001b[39m, \u001b[39m0.1\u001b[39m)\n\u001b[1;32m      <a href='vscode-notebook-cell://ssh-remote%2B10.0.62.205/home/dwip.dalal/Time_series_Analysis/Copy_of_Hackrush_2.ipynb#ch0000029vscode-remote?line=1'>2</a>\u001b[0m out, attn \u001b[39m=\u001b[39m dl(x\u001b[39m=\u001b[39mtorch\u001b[39m.\u001b[39mzeros(\u001b[39m5\u001b[39m, \u001b[39m7\u001b[39m, \u001b[39m16\u001b[39m), look_ahead_mask\u001b[39m=\u001b[39m\u001b[39mNone\u001b[39;00m)\n\u001b[1;32m      <a href='vscode-notebook-cell://ssh-remote%2B10.0.62.205/home/dwip.dalal/Time_series_Analysis/Copy_of_Hackrush_2.ipynb#ch0000029vscode-remote?line=2'>3</a>\u001b[0m out\u001b[39m.\u001b[39mshape, attn\u001b[39m.\u001b[39mshape\n",
            "\u001b[0;31mNameError\u001b[0m: name 'TransformerLayer' is not defined"
          ]
        }
      ],
      "source": [
        "dl = TransformerLayer(16, 3, 32, 0.1)\n",
        "out, attn = dl(x=torch.zeros(5, 7, 16), look_ahead_mask=None)\n",
        "out.shape, attn.shape"
      ]
    },
    {
      "cell_type": "code",
      "execution_count": 32,
      "metadata": {
        "id": "04VLiWfcuD4d"
      },
      "outputs": [
        {
          "ename": "NameError",
          "evalue": "name 'nn' is not defined",
          "output_type": "error",
          "traceback": [
            "\u001b[0;31m---------------------------------------------------------------------------\u001b[0m",
            "\u001b[0;31mNameError\u001b[0m                                 Traceback (most recent call last)",
            "\u001b[1;32m/home/dwip.dalal/Time_series_Analysis/Copy_of_Hackrush_2.ipynb Cell 33'\u001b[0m in \u001b[0;36m<cell line: 1>\u001b[0;34m()\u001b[0m\n\u001b[0;32m----> <a href='vscode-notebook-cell://ssh-remote%2B10.0.62.205/home/dwip.dalal/Time_series_Analysis/Copy_of_Hackrush_2.ipynb#ch0000030vscode-remote?line=0'>1</a>\u001b[0m \u001b[39mclass\u001b[39;00m \u001b[39mTransformer\u001b[39;00m(nn\u001b[39m.\u001b[39mModule):\n\u001b[1;32m      <a href='vscode-notebook-cell://ssh-remote%2B10.0.62.205/home/dwip.dalal/Time_series_Analysis/Copy_of_Hackrush_2.ipynb#ch0000030vscode-remote?line=2'>3</a>\u001b[0m     \u001b[39mdef\u001b[39;00m \u001b[39m__init__\u001b[39m(\u001b[39mself\u001b[39m, num_layers, D, H, hidden_mlp_dim, inp_features, out_features, dropout_rate):\n\u001b[1;32m      <a href='vscode-notebook-cell://ssh-remote%2B10.0.62.205/home/dwip.dalal/Time_series_Analysis/Copy_of_Hackrush_2.ipynb#ch0000030vscode-remote?line=3'>4</a>\u001b[0m         \u001b[39msuper\u001b[39m(Transformer, \u001b[39mself\u001b[39m)\u001b[39m.\u001b[39m\u001b[39m__init__\u001b[39m()\n",
            "\u001b[0;31mNameError\u001b[0m: name 'nn' is not defined"
          ]
        }
      ],
      "source": [
        "class Transformer(nn.Module):\n",
        "\n",
        "    def __init__(self, num_layers, D, H, hidden_mlp_dim, inp_features, out_features, dropout_rate):\n",
        "        super(Transformer, self).__init__()\n",
        "        self.sqrt_D = torch.tensor(math.sqrt(D))\n",
        "        self.num_layers = num_layers\n",
        "        self.input_projection = nn.Linear(inp_features, D) # multivariate input\n",
        "        self.output_projection = nn.Linear(D, out_features) # multivariate output\n",
        "        self.pos_encoding = positional_encoding(D)\n",
        "        self.dec_layers = nn.ModuleList([TransformerLayer(D, H, hidden_mlp_dim, \n",
        "                                        dropout_rate=dropout_rate\n",
        "                                       ) for _ in range(num_layers)])\n",
        "        self.dropout = nn.Dropout(dropout_rate)\n",
        "\n",
        "    def forward(self, x, mask):\n",
        "        B, S, D = x.shape\n",
        "        attention_weights = {}\n",
        "        x = self.input_projection(x)\n",
        "        x *= self.sqrt_D\n",
        "        \n",
        "        x += self.pos_encoding[:, :S, :]\n",
        "\n",
        "        x = self.dropout(x)\n",
        "\n",
        "        for i in range(self.num_layers):\n",
        "            x, block = self.dec_layers[i](x=x,\n",
        "                                          look_ahead_mask=mask)\n",
        "            attention_weights['decoder_layer{}'.format(i + 1)] = block\n",
        "        \n",
        "        x = self.output_projection(x)\n",
        "        \n",
        "        return x, attention_weights # (B,S,S)"
      ]
    },
    {
      "cell_type": "code",
      "execution_count": 33,
      "metadata": {
        "colab": {
          "base_uri": "https://localhost:8080/"
        },
        "id": "qD8WG0B--V1x",
        "outputId": "f736624c-c5d7-4d4d-abd1-5a046e089fdf"
      },
      "outputs": [
        {
          "ename": "NameError",
          "evalue": "name 'Transformer' is not defined",
          "output_type": "error",
          "traceback": [
            "\u001b[0;31m---------------------------------------------------------------------------\u001b[0m",
            "\u001b[0;31mNameError\u001b[0m                                 Traceback (most recent call last)",
            "\u001b[1;32m/home/dwip.dalal/Time_series_Analysis/Copy_of_Hackrush_2.ipynb Cell 34'\u001b[0m in \u001b[0;36m<cell line: 2>\u001b[0;34m()\u001b[0m\n\u001b[1;32m      <a href='vscode-notebook-cell://ssh-remote%2B10.0.62.205/home/dwip.dalal/Time_series_Analysis/Copy_of_Hackrush_2.ipynb#ch0000031vscode-remote?line=0'>1</a>\u001b[0m \u001b[39m# Test Forward pass on the Transformer: \u001b[39;00m\n\u001b[0;32m----> <a href='vscode-notebook-cell://ssh-remote%2B10.0.62.205/home/dwip.dalal/Time_series_Analysis/Copy_of_Hackrush_2.ipynb#ch0000031vscode-remote?line=1'>2</a>\u001b[0m transformer \u001b[39m=\u001b[39m Transformer(num_layers\u001b[39m=\u001b[39m\u001b[39m3\u001b[39m, D\u001b[39m=\u001b[39m\u001b[39m32\u001b[39m, H\u001b[39m=\u001b[39m\u001b[39m1\u001b[39m, hidden_mlp_dim\u001b[39m=\u001b[39m\u001b[39m32\u001b[39m,\n\u001b[1;32m      <a href='vscode-notebook-cell://ssh-remote%2B10.0.62.205/home/dwip.dalal/Time_series_Analysis/Copy_of_Hackrush_2.ipynb#ch0000031vscode-remote?line=2'>3</a>\u001b[0m                                        inp_features\u001b[39m=\u001b[39m\u001b[39m1\u001b[39m, out_features\u001b[39m=\u001b[39m\u001b[39m1\u001b[39m, dropout_rate\u001b[39m=\u001b[39m\u001b[39m0.1\u001b[39m)\n\u001b[1;32m      <a href='vscode-notebook-cell://ssh-remote%2B10.0.62.205/home/dwip.dalal/Time_series_Analysis/Copy_of_Hackrush_2.ipynb#ch0000031vscode-remote?line=3'>4</a>\u001b[0m transformer\u001b[39m.\u001b[39mto(device)\n\u001b[1;32m      <a href='vscode-notebook-cell://ssh-remote%2B10.0.62.205/home/dwip.dalal/Time_series_Analysis/Copy_of_Hackrush_2.ipynb#ch0000031vscode-remote?line=4'>5</a>\u001b[0m (inputs, targets) \u001b[39m=\u001b[39m \u001b[39mnext\u001b[39m(\u001b[39miter\u001b[39m(train_dataset))\n",
            "\u001b[0;31mNameError\u001b[0m: name 'Transformer' is not defined"
          ]
        }
      ],
      "source": [
        "# Test Forward pass on the Transformer: \n",
        "transformer = Transformer(num_layers=3, D=32, H=1, hidden_mlp_dim=32,\n",
        "                                       inp_features=1, out_features=1, dropout_rate=0.1)\n",
        "transformer.to(device)\n",
        "(inputs, targets) = next(iter(train_dataset))\n",
        "                         \n",
        "S = inputs.shape[1]\n",
        "mask = create_look_ahead_mask(S)\n",
        "out, attn = transformer (x=inputs.float(), mask=mask)\n",
        "out.shape, attn[\"decoder_layer1\"].shape"
      ]
    },
    {
      "cell_type": "markdown",
      "metadata": {
        "id": "WzrZUFZz6ia_"
      },
      "source": [
        "## Training the Transformer"
      ]
    },
    {
      "cell_type": "code",
      "execution_count": null,
      "metadata": {
        "colab": {
          "base_uri": "https://localhost:8080/"
        },
        "id": "SrjpXIu_qtFa",
        "outputId": "f4b3f631-41b0-42f2-f874-51de21627619"
      },
      "outputs": [
        {
          "name": "stdout",
          "output_type": "stream",
          "text": [
            "for a total of 19489 parameters \n"
          ]
        }
      ],
      "source": [
        "param_sizes = [p.numel() for p in transformer.parameters()]\n",
        "print(f\"for a total of {np.sum(param_sizes)} parameters \")"
      ]
    },
    {
      "cell_type": "code",
      "execution_count": null,
      "metadata": {
        "id": "xykEvm_lqtFa"
      },
      "outputs": [],
      "source": [
        "transformer = Transformer(num_layers=3, D=32, H=4, hidden_mlp_dim=32, inp_features=1, out_features=1, dropout_rate=0.1).to(device)\n",
        "optimizer = torch.optim.RMSprop(transformer.parameters(),lr=0.00005)"
      ]
    },
    {
      "cell_type": "code",
      "execution_count": null,
      "metadata": {
        "colab": {
          "base_uri": "https://localhost:8080/"
        },
        "id": "TGFMmF51qtFb",
        "outputId": "71a65415-6114-4774-aae3-d90782a92d30"
      },
      "outputs": [
        {
          "name": "stderr",
          "output_type": "stream",
          "text": [
            "100%|██████████| 900/900 [02:53<00:00,  5.18it/s]\n"
          ]
        }
      ],
      "source": [
        "n_epochs = 900\n",
        "niter = len(train_dataset)\n",
        "losses, val_losses = [], []\n",
        "\n",
        "for e in tqdm(range(n_epochs)):\n",
        "    \n",
        "    # one epoch on train set\n",
        "    transformer.train()\n",
        "    sum_train_loss = 0.0\n",
        "    for x,y in train_dataset:\n",
        "        S = x.shape[1]\n",
        "        mask = create_look_ahead_mask(S)\n",
        "        out, _ = transformer(x.float(), mask)\n",
        "        loss = torch.nn.MSELoss()(out, y)\n",
        "        sum_train_loss += loss.item()\n",
        "        loss.backward()\n",
        "        optimizer.step()\n",
        "    losses.append(sum_train_loss / niter)\n",
        "    \n",
        "    # Evaluate on val set\n",
        "    transformer.eval()\n",
        "    sum_val_loss = 0.0\n",
        "    for i, (x, y) in enumerate(val_dataset):\n",
        "        S = x.shape[1]\n",
        "        mask = create_look_ahead_mask(S)\n",
        "        out, _ = transformer(x, mask)\n",
        "        loss = torch.nn.MSELoss()(out, y)\n",
        "        sum_val_loss += loss.item()\n",
        "    val_losses.append(sum_val_loss / (i + 1))"
      ]
    },
    {
      "cell_type": "code",
      "execution_count": null,
      "metadata": {
        "id": "Hni-LO7qZ6K6"
      },
      "outputs": [],
      "source": [
        "import pickle"
      ]
    },
    {
      "cell_type": "code",
      "execution_count": null,
      "metadata": {
        "id": "NZbM_QjKZvhq"
      },
      "outputs": [],
      "source": [
        "filename = 'finalized_model.sav'\n",
        "pickle.dump(transformer, open(filename, 'wb'))"
      ]
    },
    {
      "cell_type": "code",
      "execution_count": null,
      "metadata": {
        "id": "BVuuwrnAqtFc"
      },
      "outputs": [
        {
          "data": {
            "text/plain": [
              "[<matplotlib.lines.Line2D at 0x7fa5000d57f0>]"
            ]
          },
          "execution_count": 62,
          "metadata": {},
          "output_type": "execute_result"
        },
        {
          "data": {
            "image/png": "[encoded data removed]",
            "text/plain": [
              "<Figure size 432x288 with 1 Axes>"
            ]
          },
          "metadata": {
            "needs_background": "light"
          },
          "output_type": "display_data"
        }
      ],
      "source": [
        "plt.plot(losses)\n",
        "plt.plot(val_losses)"
      ]
    },
    {
      "cell_type": "markdown",
      "metadata": {
        "id": "ALeWAQDFnAGx"
      },
      "source": [
        "### Evaluation on Test set"
      ]
    },
    {
      "cell_type": "code",
      "execution_count": null,
      "metadata": {
        "id": "N_xypxStnWcP"
      },
      "outputs": [],
      "source": [
        "loaded_model = pickle.load(open(filename, 'rb'))"
      ]
    },
    {
      "cell_type": "code",
      "execution_count": null,
      "metadata": {
        "colab": {
          "base_uri": "https://localhost:8080/"
        },
        "id": "gcQ8ZCkqntLy",
        "outputId": "044d3084-fb18-4529-dd1c-2a7518692dc1"
      },
      "outputs": [
        {
          "data": {
            "text/plain": [
              "torch.utils.data.dataloader.DataLoader"
            ]
          },
          "execution_count": 64,
          "metadata": {},
          "output_type": "execute_result"
        }
      ],
      "source": [
        "type(test_dataset)"
      ]
    },
    {
      "cell_type": "code",
      "execution_count": null,
      "metadata": {
        "colab": {
          "base_uri": "https://localhost:8080/"
        },
        "id": "zRJJ-39R257V",
        "outputId": "83625475-1091-4bc4-aaea-a1dff1961064"
      },
      "outputs": [
        {
          "data": {
            "text/plain": [
              "394.6215057373047"
            ]
          },
          "execution_count": 65,
          "metadata": {},
          "output_type": "execute_result"
        }
      ],
      "source": [
        "test_losses, test_preds  = [], []\n",
        "transformer.eval()\n",
        "for (x, y) in test_dataset:\n",
        "\n",
        "    S = x.shape[-2]\n",
        "    y_pred, _ = transformer(x, mask=create_look_ahead_mask(S))\n",
        "    y = y.cpu().detach().numpy()*data.std(axis=0)+data.mean(axis=0)\n",
        "    y_pred = y_pred.cpu().detach().numpy()*data.std(axis=0)+data.mean(axis=0)\n",
        "    \n",
        "    y = torch.tensor(y)\n",
        "    y_pred = torch.tensor(y_pred)\n",
        "    \n",
        "    loss_test = torch.nn.MSELoss()(torch.tensor(y_pred),torch.tensor(y))  # (B,S)\n",
        "    test_losses.append(loss_test.item())\n",
        "    test_preds.append(y_pred.detach().cpu().numpy())\n",
        "test_preds = np.vstack(test_preds)\n",
        "np.mean(test_losses)"
      ]
    },
    {
      "cell_type": "code",
      "execution_count": null,
      "metadata": {
        "id": "_QRdkgsILCyk"
      },
      "outputs": [],
      "source": [
        "x_test, _ = test_dataset.dataset.tensors\n",
        "x_test = x_test.cpu().detach().numpy()*data.std(axis=0)+data.mean(axis=0)"
      ]
    },
    {
      "cell_type": "code",
      "execution_count": null,
      "metadata": {
        "colab": {
          "base_uri": "https://localhost:8080/"
        },
        "id": "QtbOpilV6BTG",
        "outputId": "772b6c01-3baf-4d27-a3fc-0a33df1f85cc"
      },
      "outputs": [
        {
          "name": "stdout",
          "output_type": "stream",
          "text": [
            "[[[  0.]\n",
            "  [  0.]\n",
            "  [ 40.]\n",
            "  [ 46.]\n",
            "  [ 45.]\n",
            "  [ 56.]\n",
            "  [ 37.]\n",
            "  [  0.]\n",
            "  [  0.]\n",
            "  [ 47.]\n",
            "  [ 42.]\n",
            "  [ 43.]]\n",
            "\n",
            " [[  0.]\n",
            "  [  0.]\n",
            "  [ 38.]\n",
            "  [ 47.]\n",
            "  [ 64.]\n",
            "  [ 55.]\n",
            "  [ 42.]\n",
            "  [  0.]\n",
            "  [  0.]\n",
            "  [ 68.]\n",
            "  [ 50.]\n",
            "  [ 71.]]\n",
            "\n",
            " [[ 56.]\n",
            "  [ 37.]\n",
            "  [  0.]\n",
            "  [  0.]\n",
            "  [ 47.]\n",
            "  [ 42.]\n",
            "  [ 43.]\n",
            "  [ 26.]\n",
            "  [ 42.]\n",
            "  [  9.]\n",
            "  [  0.]\n",
            "  [ 47.]]\n",
            "\n",
            " [[  0.]\n",
            "  [ 53.]\n",
            "  [ 59.]\n",
            "  [ 71.]\n",
            "  [ 52.]\n",
            "  [ 52.]\n",
            "  [  0.]\n",
            "  [  0.]\n",
            "  [ 54.]\n",
            "  [ 60.]\n",
            "  [ 59.]\n",
            "  [ 73.]]\n",
            "\n",
            " [[  0.]\n",
            "  [ 43.]\n",
            "  [ 53.]\n",
            "  [ 47.]\n",
            "  [ 31.]\n",
            "  [ 52.]\n",
            "  [  0.]\n",
            "  [  0.]\n",
            "  [ 31.]\n",
            "  [ 30.]\n",
            "  [ 41.]\n",
            "  [  0.]]\n",
            "\n",
            " [[ 31.]\n",
            "  [  0.]\n",
            "  [  0.]\n",
            "  [ 41.]\n",
            "  [ 34.]\n",
            "  [ 37.]\n",
            "  [ 41.]\n",
            "  [ 36.]\n",
            "  [  0.]\n",
            "  [  0.]\n",
            "  [ 43.]\n",
            "  [ 53.]]\n",
            "\n",
            " [[ 72.]\n",
            "  [ 57.]\n",
            "  [ 67.]\n",
            "  [ 62.]\n",
            "  [  0.]\n",
            "  [  0.]\n",
            "  [ 95.]\n",
            "  [ 76.]\n",
            "  [ 69.]\n",
            "  [ 62.]\n",
            "  [ 62.]\n",
            "  [  0.]]\n",
            "\n",
            " [[  0.]\n",
            "  [ 14.]\n",
            "  [ 19.]\n",
            "  [ 16.]\n",
            "  [ 11.]\n",
            "  [ 11.]\n",
            "  [  0.]\n",
            "  [  0.]\n",
            "  [ 12.]\n",
            "  [ 19.]\n",
            "  [ 19.]\n",
            "  [ 28.]]\n",
            "\n",
            " [[  0.]\n",
            "  [ 28.]\n",
            "  [ 40.]\n",
            "  [ 25.]\n",
            "  [ 26.]\n",
            "  [ 27.]\n",
            "  [  0.]\n",
            "  [  0.]\n",
            "  [ 18.]\n",
            "  [ 20.]\n",
            "  [ 22.]\n",
            "  [ 13.]]\n",
            "\n",
            " [[ 48.]\n",
            "  [ 36.]\n",
            "  [ 40.]\n",
            "  [ 35.]\n",
            "  [  0.]\n",
            "  [  0.]\n",
            "  [ 50.]\n",
            "  [ 51.]\n",
            "  [ 30.]\n",
            "  [ 30.]\n",
            "  [ 44.]\n",
            "  [  0.]]\n",
            "\n",
            " [[  0.]\n",
            "  [  0.]\n",
            "  [ 44.]\n",
            "  [ 61.]\n",
            "  [ 50.]\n",
            "  [ 43.]\n",
            "  [ 38.]\n",
            "  [ 29.]\n",
            "  [  0.]\n",
            "  [ 42.]\n",
            "  [ 50.]\n",
            "  [ 76.]]\n",
            "\n",
            " [[  0.]\n",
            "  [ 41.]\n",
            "  [ 34.]\n",
            "  [ 37.]\n",
            "  [ 41.]\n",
            "  [ 36.]\n",
            "  [  0.]\n",
            "  [  0.]\n",
            "  [ 43.]\n",
            "  [ 53.]\n",
            "  [ 47.]\n",
            "  [ 31.]]\n",
            "\n",
            " [[ 16.]\n",
            "  [ 11.]\n",
            "  [ 11.]\n",
            "  [  0.]\n",
            "  [  0.]\n",
            "  [ 12.]\n",
            "  [ 19.]\n",
            "  [ 19.]\n",
            "  [ 28.]\n",
            "  [ 27.]\n",
            "  [  0.]\n",
            "  [  0.]]\n",
            "\n",
            " [[ 56.]\n",
            "  [ 57.]\n",
            "  [ 74.]\n",
            "  [ 71.]\n",
            "  [ 15.]\n",
            "  [  0.]\n",
            "  [ 61.]\n",
            "  [ 90.]\n",
            "  [ 71.]\n",
            "  [ 68.]\n",
            "  [ 74.]\n",
            "  [  4.]]\n",
            "\n",
            " [[ 57.]\n",
            "  [ 42.]\n",
            "  [ 65.]\n",
            "  [ 59.]\n",
            "  [  0.]\n",
            "  [  0.]\n",
            "  [ 85.]\n",
            "  [ 97.]\n",
            "  [105.]\n",
            "  [105.]\n",
            "  [ 93.]\n",
            "  [  0.]]\n",
            "\n",
            " [[  0.]\n",
            "  [  0.]\n",
            "  [ 72.]\n",
            "  [ 52.]\n",
            "  [ 45.]\n",
            "  [ 36.]\n",
            "  [ 47.]\n",
            "  [  0.]\n",
            "  [  0.]\n",
            "  [ 74.]\n",
            "  [ 50.]\n",
            "  [ 52.]]\n",
            "\n",
            " [[ 50.]\n",
            "  [ 43.]\n",
            "  [ 38.]\n",
            "  [ 29.]\n",
            "  [  0.]\n",
            "  [ 42.]\n",
            "  [ 50.]\n",
            "  [ 76.]\n",
            "  [ 79.]\n",
            "  [ 60.]\n",
            "  [  0.]\n",
            "  [  0.]]\n",
            "\n",
            " [[ 67.]\n",
            "  [ 66.]\n",
            "  [  0.]\n",
            "  [  0.]\n",
            "  [ 91.]\n",
            "  [ 79.]\n",
            "  [ 77.]\n",
            "  [ 80.]\n",
            "  [ 58.]\n",
            "  [ 31.]\n",
            "  [  0.]\n",
            "  [ 79.]]\n",
            "\n",
            " [[ 29.]\n",
            "  [ 31.]\n",
            "  [  0.]\n",
            "  [  0.]\n",
            "  [ 41.]\n",
            "  [ 34.]\n",
            "  [ 37.]\n",
            "  [ 41.]\n",
            "  [ 36.]\n",
            "  [  0.]\n",
            "  [  0.]\n",
            "  [ 43.]]\n",
            "\n",
            " [[ 67.]\n",
            "  [  0.]\n",
            "  [  0.]\n",
            "  [ 75.]\n",
            "  [ 75.]\n",
            "  [ 83.]\n",
            "  [ 77.]\n",
            "  [ 78.]\n",
            "  [  0.]\n",
            "  [  0.]\n",
            "  [ 96.]\n",
            "  [ 90.]]\n",
            "\n",
            " [[ 44.]\n",
            "  [ 48.]\n",
            "  [ 36.]\n",
            "  [ 40.]\n",
            "  [ 35.]\n",
            "  [  0.]\n",
            "  [  0.]\n",
            "  [ 50.]\n",
            "  [ 51.]\n",
            "  [ 30.]\n",
            "  [ 30.]\n",
            "  [ 44.]]\n",
            "\n",
            " [[ 85.]\n",
            "  [ 97.]\n",
            "  [ 80.]\n",
            "  [ 71.]\n",
            "  [  0.]\n",
            "  [  0.]\n",
            "  [ 93.]\n",
            "  [ 99.]\n",
            "  [ 86.]\n",
            "  [ 84.]\n",
            "  [ 87.]\n",
            "  [  0.]]\n",
            "\n",
            " [[  0.]\n",
            "  [ 71.]\n",
            "  [ 77.]\n",
            "  [ 71.]\n",
            "  [ 84.]\n",
            "  [ 82.]\n",
            "  [  0.]\n",
            "  [  0.]\n",
            "  [ 79.]\n",
            "  [ 68.]\n",
            "  [ 78.]\n",
            "  [ 77.]]\n",
            "\n",
            " [[ 41.]\n",
            "  [ 62.]\n",
            "  [  0.]\n",
            "  [  0.]\n",
            "  [ 53.]\n",
            "  [ 59.]\n",
            "  [ 71.]\n",
            "  [ 52.]\n",
            "  [ 52.]\n",
            "  [  0.]\n",
            "  [  0.]\n",
            "  [ 54.]]\n",
            "\n",
            " [[ 28.]\n",
            "  [ 35.]\n",
            "  [ 24.]\n",
            "  [ 25.]\n",
            "  [  0.]\n",
            "  [  0.]\n",
            "  [ 31.]\n",
            "  [ 30.]\n",
            "  [ 43.]\n",
            "  [ 41.]\n",
            "  [  0.]\n",
            "  [  0.]]\n",
            "\n",
            " [[105.]\n",
            "  [ 93.]\n",
            "  [  0.]\n",
            "  [  0.]\n",
            "  [ 76.]\n",
            "  [101.]\n",
            "  [ 83.]\n",
            "  [ 87.]\n",
            "  [ 89.]\n",
            "  [  0.]\n",
            "  [  0.]\n",
            "  [ 72.]]\n",
            "\n",
            " [[ 11.]\n",
            "  [  0.]\n",
            "  [  0.]\n",
            "  [ 12.]\n",
            "  [ 19.]\n",
            "  [ 19.]\n",
            "  [ 28.]\n",
            "  [ 27.]\n",
            "  [  0.]\n",
            "  [  0.]\n",
            "  [ 13.]\n",
            "  [ 19.]]\n",
            "\n",
            " [[  0.]\n",
            "  [  0.]\n",
            "  [ 54.]\n",
            "  [ 60.]\n",
            "  [ 59.]\n",
            "  [ 73.]\n",
            "  [ 78.]\n",
            "  [  0.]\n",
            "  [  0.]\n",
            "  [ 61.]\n",
            "  [ 73.]\n",
            "  [ 58.]]\n",
            "\n",
            " [[  0.]\n",
            "  [ 54.]\n",
            "  [ 60.]\n",
            "  [ 59.]\n",
            "  [ 73.]\n",
            "  [ 78.]\n",
            "  [  0.]\n",
            "  [  0.]\n",
            "  [ 61.]\n",
            "  [ 73.]\n",
            "  [ 58.]\n",
            "  [ 56.]]\n",
            "\n",
            " [[ 61.]\n",
            "  [ 73.]\n",
            "  [ 58.]\n",
            "  [ 56.]\n",
            "  [ 55.]\n",
            "  [  0.]\n",
            "  [  0.]\n",
            "  [ 65.]\n",
            "  [ 68.]\n",
            "  [ 69.]\n",
            "  [ 65.]\n",
            "  [ 64.]]\n",
            "\n",
            " [[  0.]\n",
            "  [  0.]\n",
            "  [ 49.]\n",
            "  [ 71.]\n",
            "  [ 58.]\n",
            "  [ 41.]\n",
            "  [ 62.]\n",
            "  [  0.]\n",
            "  [  0.]\n",
            "  [ 53.]\n",
            "  [ 59.]\n",
            "  [ 71.]]\n",
            "\n",
            " [[ 65.]\n",
            "  [ 83.]\n",
            "  [ 64.]\n",
            "  [ 45.]\n",
            "  [  0.]\n",
            "  [  0.]\n",
            "  [ 83.]\n",
            "  [ 71.]\n",
            "  [ 76.]\n",
            "  [ 79.]\n",
            "  [ 67.]\n",
            "  [  0.]]\n",
            "\n",
            " [[ 23.]\n",
            "  [ 25.]\n",
            "  [ 24.]\n",
            "  [  0.]\n",
            "  [  0.]\n",
            "  [ 14.]\n",
            "  [ 19.]\n",
            "  [ 16.]\n",
            "  [ 11.]\n",
            "  [ 11.]\n",
            "  [  0.]\n",
            "  [  0.]]\n",
            "\n",
            " [[  0.]\n",
            "  [ 24.]\n",
            "  [ 26.]\n",
            "  [ 27.]\n",
            "  [ 17.]\n",
            "  [ 23.]\n",
            "  [  0.]\n",
            "  [  0.]\n",
            "  [ 15.]\n",
            "  [ 28.]\n",
            "  [ 35.]\n",
            "  [ 24.]]\n",
            "\n",
            " [[  0.]\n",
            "  [  0.]\n",
            "  [ 18.]\n",
            "  [ 20.]\n",
            "  [ 22.]\n",
            "  [ 13.]\n",
            "  [ 37.]\n",
            "  [ 27.]\n",
            "  [  0.]\n",
            "  [ 30.]\n",
            "  [ 30.]\n",
            "  [ 22.]]\n",
            "\n",
            " [[  0.]\n",
            "  [ 55.]\n",
            "  [ 58.]\n",
            "  [ 63.]\n",
            "  [ 49.]\n",
            "  [ 65.]\n",
            "  [  7.]\n",
            "  [  0.]\n",
            "  [ 63.]\n",
            "  [ 47.]\n",
            "  [ 43.]\n",
            "  [ 43.]]\n",
            "\n",
            " [[  0.]\n",
            "  [  0.]\n",
            "  [  0.]\n",
            "  [ 90.]\n",
            "  [ 88.]\n",
            "  [ 67.]\n",
            "  [ 66.]\n",
            "  [  0.]\n",
            "  [  0.]\n",
            "  [ 91.]\n",
            "  [ 79.]\n",
            "  [ 77.]]\n",
            "\n",
            " [[ 62.]\n",
            "  [  0.]\n",
            "  [  0.]\n",
            "  [ 68.]\n",
            "  [ 79.]\n",
            "  [ 86.]\n",
            "  [ 86.]\n",
            "  [ 80.]\n",
            "  [  0.]\n",
            "  [  0.]\n",
            "  [101.]\n",
            "  [108.]]\n",
            "\n",
            " [[ 26.]\n",
            "  [ 27.]\n",
            "  [  0.]\n",
            "  [  0.]\n",
            "  [ 18.]\n",
            "  [ 20.]\n",
            "  [ 22.]\n",
            "  [ 13.]\n",
            "  [ 37.]\n",
            "  [ 27.]\n",
            "  [  0.]\n",
            "  [ 30.]]\n",
            "\n",
            " [[ 58.]\n",
            "  [ 31.]\n",
            "  [  0.]\n",
            "  [ 79.]\n",
            "  [ 71.]\n",
            "  [ 79.]\n",
            "  [ 62.]\n",
            "  [  0.]\n",
            "  [  0.]\n",
            "  [  0.]\n",
            "  [ 64.]\n",
            "  [ 65.]]\n",
            "\n",
            " [[ 50.]\n",
            "  [ 51.]\n",
            "  [ 30.]\n",
            "  [ 30.]\n",
            "  [ 44.]\n",
            "  [  0.]\n",
            "  [  0.]\n",
            "  [ 40.]\n",
            "  [ 37.]\n",
            "  [ 41.]\n",
            "  [ 54.]\n",
            "  [ 44.]]\n",
            "\n",
            " [[101.]\n",
            "  [108.]\n",
            "  [ 91.]\n",
            "  [111.]\n",
            "  [ 95.]\n",
            "  [  0.]\n",
            "  [  0.]\n",
            "  [ 88.]\n",
            "  [106.]\n",
            "  [ 90.]\n",
            "  [ 94.]\n",
            "  [ 80.]]\n",
            "\n",
            " [[ 55.]\n",
            "  [ 51.]\n",
            "  [  0.]\n",
            "  [  0.]\n",
            "  [  0.]\n",
            "  [  0.]\n",
            "  [  0.]\n",
            "  [ 21.]\n",
            "  [ 22.]\n",
            "  [  0.]\n",
            "  [  0.]\n",
            "  [  0.]]\n",
            "\n",
            " [[  0.]\n",
            "  [  0.]\n",
            "  [ 31.]\n",
            "  [ 30.]\n",
            "  [ 41.]\n",
            "  [  0.]\n",
            "  [  0.]\n",
            "  [  0.]\n",
            "  [  0.]\n",
            "  [ 38.]\n",
            "  [ 47.]\n",
            "  [ 64.]]\n",
            "\n",
            " [[ 78.]\n",
            "  [ 77.]\n",
            "  [ 77.]\n",
            "  [  0.]\n",
            "  [  0.]\n",
            "  [ 79.]\n",
            "  [ 85.]\n",
            "  [ 97.]\n",
            "  [ 80.]\n",
            "  [ 71.]\n",
            "  [  0.]\n",
            "  [  0.]]\n",
            "\n",
            " [[  0.]\n",
            "  [ 93.]\n",
            "  [ 99.]\n",
            "  [ 86.]\n",
            "  [ 84.]\n",
            "  [ 87.]\n",
            "  [  0.]\n",
            "  [  0.]\n",
            "  [ 81.]\n",
            "  [ 66.]\n",
            "  [  0.]\n",
            "  [  0.]]\n",
            "\n",
            " [[  0.]\n",
            "  [ 49.]\n",
            "  [ 54.]\n",
            "  [ 50.]\n",
            "  [ 52.]\n",
            "  [ 44.]\n",
            "  [  0.]\n",
            "  [  0.]\n",
            "  [ 40.]\n",
            "  [ 46.]\n",
            "  [ 45.]\n",
            "  [ 56.]]\n",
            "\n",
            " [[ 39.]\n",
            "  [  4.]\n",
            "  [  0.]\n",
            "  [ 53.]\n",
            "  [ 50.]\n",
            "  [ 42.]\n",
            "  [ 45.]\n",
            "  [ 29.]\n",
            "  [  9.]\n",
            "  [  0.]\n",
            "  [ 44.]\n",
            "  [ 48.]]\n",
            "\n",
            " [[ 47.]\n",
            "  [ 35.]\n",
            "  [ 44.]\n",
            "  [  0.]\n",
            "  [  0.]\n",
            "  [ 49.]\n",
            "  [ 54.]\n",
            "  [ 50.]\n",
            "  [ 52.]\n",
            "  [ 44.]\n",
            "  [  0.]\n",
            "  [  0.]]\n",
            "\n",
            " [[ 41.]\n",
            "  [ 25.]\n",
            "  [ 52.]\n",
            "  [ 23.]\n",
            "  [  0.]\n",
            "  [ 21.]\n",
            "  [ 18.]\n",
            "  [ 25.]\n",
            "  [  0.]\n",
            "  [  0.]\n",
            "  [  0.]\n",
            "  [  0.]]\n",
            "\n",
            " [[ 47.]\n",
            "  [ 43.]\n",
            "  [ 43.]\n",
            "  [ 62.]\n",
            "  [  7.]\n",
            "  [  0.]\n",
            "  [ 55.]\n",
            "  [ 53.]\n",
            "  [ 58.]\n",
            "  [ 39.]\n",
            "  [ 40.]\n",
            "  [  0.]]\n",
            "\n",
            " [[  0.]\n",
            "  [ 38.]\n",
            "  [ 47.]\n",
            "  [ 64.]\n",
            "  [ 55.]\n",
            "  [ 42.]\n",
            "  [  0.]\n",
            "  [  0.]\n",
            "  [ 68.]\n",
            "  [ 50.]\n",
            "  [ 71.]\n",
            "  [ 69.]]\n",
            "\n",
            " [[ 56.]\n",
            "  [ 55.]\n",
            "  [  0.]\n",
            "  [  0.]\n",
            "  [ 65.]\n",
            "  [ 68.]\n",
            "  [ 69.]\n",
            "  [ 65.]\n",
            "  [ 64.]\n",
            "  [  0.]\n",
            "  [  0.]\n",
            "  [ 61.]]\n",
            "\n",
            " [[ 71.]\n",
            "  [ 76.]\n",
            "  [ 57.]\n",
            "  [ 70.]\n",
            "  [  0.]\n",
            "  [  0.]\n",
            "  [ 90.]\n",
            "  [ 70.]\n",
            "  [ 77.]\n",
            "  [ 69.]\n",
            "  [ 76.]\n",
            "  [  0.]]\n",
            "\n",
            " [[  0.]\n",
            "  [  0.]\n",
            "  [ 83.]\n",
            "  [ 71.]\n",
            "  [ 76.]\n",
            "  [ 79.]\n",
            "  [ 67.]\n",
            "  [  0.]\n",
            "  [  0.]\n",
            "  [ 84.]\n",
            "  [ 64.]\n",
            "  [ 65.]]]\n"
          ]
        }
      ],
      "source": [
        "print(x_test)"
      ]
    },
    {
      "cell_type": "code",
      "execution_count": null,
      "metadata": {
        "colab": {
          "base_uri": "https://localhost:8080/"
        },
        "id": "WRifYv5ULMTN",
        "outputId": "4e240e93-8a68-45bc-9016-9aa7b38a428e"
      },
      "outputs": [
        {
          "name": "stdout",
          "output_type": "stream",
          "text": [
            "(55, 12, 1)\n"
          ]
        }
      ],
      "source": [
        "print(x_test.shape)"
      ]
    },
    {
      "cell_type": "code",
      "execution_count": null,
      "metadata": {
        "colab": {
          "base_uri": "https://localhost:8080/"
        },
        "id": "hF7Qiuu2K3fh",
        "outputId": "b7c40f57-3a02-4cc1-b924-0ab00bfdae36"
      },
      "outputs": [
        {
          "name": "stdout",
          "output_type": "stream",
          "text": [
            "torch.Size([23, 12, 1])\n"
          ]
        }
      ],
      "source": [
        "print(y.shape)"
      ]
    },
    {
      "cell_type": "code",
      "execution_count": null,
      "metadata": {
        "colab": {
          "base_uri": "https://localhost:8080/"
        },
        "id": "ot_P85CaK6tI",
        "outputId": "4d6965f4-f30a-4713-8ff7-9b38c7663303"
      },
      "outputs": [
        {
          "name": "stdout",
          "output_type": "stream",
          "text": [
            "torch.Size([23, 12, 1])\n"
          ]
        }
      ],
      "source": [
        "print(y_pred.shape)"
      ]
    },
    {
      "cell_type": "code",
      "execution_count": null,
      "metadata": {
        "colab": {
          "base_uri": "https://localhost:8080/",
          "height": 266
        },
        "id": "k1VCvxaklm0k",
        "outputId": "1bf46343-881a-4969-8abf-0bfcecc5553e"
      },
      "outputs": [
        {
          "data": {
            "image/png": "[encoded data removed]",
            "text/plain": [
              "<Figure size 432x288 with 1 Axes>"
            ]
          },
          "metadata": {
            "needs_background": "light"
          },
          "output_type": "display_data"
        }
      ],
      "source": [
        "seq_len = 12\n",
        "index = np.random.randint(32)\n",
        "feature_num = 0\n",
        "\n",
        "x_test = x_test[index, :, feature_num]\n",
        "pred = test_preds[index, :, feature_num]\n",
        "x = np.linspace(1, seq_len, seq_len)\n",
        "\n",
        "plt.plot(x, pred, 'red', lw=2, label='predictions for sample: {}'.format(index))\n",
        "plt.plot(x, x_test, 'cyan', lw=2, label='ground-truth for sample: {}'.format(index))\n",
        "plt.legend(fontsize=10)\n",
        "plt.show()"
      ]
    },
    {
      "cell_type": "code",
      "execution_count": null,
      "metadata": {
        "id": "rB414UJ3wU0s"
      },
      "outputs": [],
      "source": []
    },
    {
      "cell_type": "code",
      "execution_count": null,
      "metadata": {},
      "outputs": [],
      "source": []
    }
  ],
  "metadata": {
    "accelerator": "GPU",
    "colab": {
      "collapsed_sections": [],
      "name": "Copy of Hackrush_2",
      "provenance": []
    },
    "interpreter": {
      "hash": "99bd79105e31133f60409838afb54ed31553801c2675cfb9257695e9fe28666d"
    },
    "kernelspec": {
      "display_name": "Python 3.8.13 ('pal': conda)",
      "language": "python",
      "name": "python3"
    },
    "language_info": {
      "codemirror_mode": {
        "name": "ipython",
        "version": 3
      },
      "file_extension": ".py",
      "mimetype": "text/x-python",
      "name": "python",
      "nbconvert_exporter": "python",
      "pygments_lexer": "ipython3",
      "version": "3.8.13"
    },
    "toc": {
      "base_numbering": 1,
      "nav_menu": {},
      "number_sections": true,
      "sideBar": true,
      "skip_h1_title": false,
      "title_cell": "Table of Contents",
      "title_sidebar": "Contents",
      "toc_cell": false,
      "toc_position": {},
      "toc_section_display": true,
      "toc_window_display": false
    }
  },
  "nbformat": 4,
  "nbformat_minor": 0
}
